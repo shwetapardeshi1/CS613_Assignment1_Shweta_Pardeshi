{
  "nbformat": 4,
  "nbformat_minor": 0,
  "metadata": {
    "colab": {
      "name": "Assignment-1_17110097_Shweta_Pardeshi.ipynb",
      "version": "0.3.2",
      "provenance": []
    },
    "kernelspec": {
      "name": "python3",
      "display_name": "Python 3"
    }
  },
  "cells": [
    {
      "cell_type": "code",
      "metadata": {
        "id": "HKeX7jOV4nBJ",
        "colab_type": "code",
        "outputId": "b731d225-e2b5-492f-ca66-d66bc9a6d389",
        "colab": {
          "base_uri": "https://localhost:8080/",
          "height": 34
        }
      },
      "source": [
        "from google.colab import drive\n",
        "drive.mount('/content/gdrive')"
      ],
      "execution_count": 55,
      "outputs": [
        {
          "output_type": "stream",
          "text": [
            "Drive already mounted at /content/gdrive; to attempt to forcibly remount, call drive.mount(\"/content/gdrive\", force_remount=True).\n"
          ],
          "name": "stdout"
        }
      ]
    },
    {
      "cell_type": "code",
      "metadata": {
        "id": "lxc7tFzZ5nJF",
        "colab_type": "code",
        "colab": {}
      },
      "source": [
        "root_path = '/content/gdrive/My Drive/'\n",
        "import os\n",
        "os.chdir(root_path)"
      ],
      "execution_count": 0,
      "outputs": []
    },
    {
      "cell_type": "code",
      "metadata": {
        "id": "DYJvO7t7542d",
        "colab_type": "code",
        "outputId": "c6f71220-ce2e-43e1-8b9e-f6cb0e5e2228",
        "colab": {
          "base_uri": "https://localhost:8080/",
          "height": 87
        }
      },
      "source": [
        "#importing required libraries\n",
        "\n",
        "import nltk\n",
        "from nltk.tokenize import word_tokenize\n",
        "nltk.download('punkt')\n",
        "nltk.download('wordnet')\n",
        "from nltk.corpus import wordnet\n",
        "import csv \n",
        "import pandas as pd\n",
        "import re\n",
        "from nltk.probability import FreqDist\n",
        "import matplotlib.pyplot as plt\n",
        "import numpy as np"
      ],
      "execution_count": 78,
      "outputs": [
        {
          "output_type": "stream",
          "text": [
            "[nltk_data] Downloading package punkt to /root/nltk_data...\n",
            "[nltk_data]   Package punkt is already up-to-date!\n",
            "[nltk_data] Downloading package wordnet to /root/nltk_data...\n",
            "[nltk_data]   Package wordnet is already up-to-date!\n"
          ],
          "name": "stdout"
        }
      ]
    },
    {
      "cell_type": "code",
      "metadata": {
        "id": "mdd8__5J5_6y",
        "colab_type": "code",
        "colab": {}
      },
      "source": [
        "# reading the dataset\n",
        "df = pd.read_csv('tweets-dataset.csv')\n",
        "\n",
        "# Storing the data in a string\n",
        "string = \"\"\n",
        "for ind in df.index:\n",
        "    string = string + \" \" + df['Sentence'][ind]"
      ],
      "execution_count": 0,
      "outputs": []
    },
    {
      "cell_type": "code",
      "metadata": {
        "id": "bcsxHsxC6DYM",
        "colab_type": "code",
        "colab": {}
      },
      "source": [
        "#cleaning the data\n",
        "#removing urls, usernames, hashtags, unwanted symbols and emojis\n",
        "\n",
        "string = re.sub(r\"(http)[^\\s]*\", \"\",string )\n",
        "string = re.sub(r\"@[^\\s]*\", \"\" , string)\n",
        "string = re.sub(r\"#[^\\s]*\", \"\", string)\n",
        "string = re.sub(r\"(pic.twitter)[^\\s]*\", \"\", string)\n",
        "string = re.sub(r\":[a-zA-Z0-9\\s]\", \"\", string)\n",
        "string = re.sub(r'[^a-zA-Z0-9\\s]', \"\", string)\n",
        "string = string.lower()\n"
      ],
      "execution_count": 0,
      "outputs": []
    },
    {
      "cell_type": "code",
      "metadata": {
        "id": "fse_rSwD6F9Y",
        "colab_type": "code",
        "outputId": "911e938e-809c-4257-e41a-8d2887bd2b6e",
        "colab": {
          "base_uri": "https://localhost:8080/",
          "height": 34
        }
      },
      "source": [
        "#counting number of tokens\n",
        "\n",
        "tokens = word_tokenize(string)\n",
        "print(\"The total number of tokens are {}\".format(len(tokens)))"
      ],
      "execution_count": 61,
      "outputs": [
        {
          "output_type": "stream",
          "text": [
            "The total number of tokens are 287012\n"
          ],
          "name": "stdout"
        }
      ]
    },
    {
      "cell_type": "code",
      "metadata": {
        "id": "FD86N6mGOTC0",
        "colab_type": "code",
        "outputId": "6ab30673-c16b-4b9f-9908-8baac391cf7e",
        "colab": {
          "base_uri": "https://localhost:8080/",
          "height": 34
        }
      },
      "source": [
        "# frequency distribution of tokens\n",
        "#counting total types\n",
        "\n",
        "types = sorted(FreqDist(tokens).items(),key=lambda k:k[1], reverse=True)\n",
        "print(\"The total number of types are {}\".format(len(types)))"
      ],
      "execution_count": 80,
      "outputs": [
        {
          "output_type": "stream",
          "text": [
            "The total number of types are 32781\n"
          ],
          "name": "stdout"
        }
      ]
    },
    {
      "cell_type": "code",
      "metadata": {
        "id": "JYQujIBh7ncO",
        "colab_type": "code",
        "outputId": "2548dd02-2094-4a92-8932-b34761e1ad10",
        "colab": {
          "base_uri": "https://localhost:8080/",
          "height": 34
        }
      },
      "source": [
        "#calculating type token ratio \n",
        "\n",
        "TTR = len(types)/len(tokens)\n",
        "print(\" The TTR is {}\".format(TTR))\n"
      ],
      "execution_count": 81,
      "outputs": [
        {
          "output_type": "stream",
          "text": [
            " The TTR is 0.11421473666606274\n"
          ],
          "name": "stdout"
        }
      ]
    },
    {
      "cell_type": "code",
      "metadata": {
        "id": "dEGbiVEsCGx-",
        "colab_type": "code",
        "outputId": "0739e0d5-060a-4542-f45a-ea75b9909c1f",
        "colab": {
          "base_uri": "https://localhost:8080/",
          "height": 313
        }
      },
      "source": [
        "#Zipf's Law (relation between frequency of words and length of word)\n",
        "\n",
        "freq = []\n",
        "length = []\n",
        "\n",
        "for i in range(len(types)):\n",
        "  freq.append(types[i][1])\n",
        "  length.append(len(types[i][0]))\n",
        "    \n",
        "plt.plot(freq, length)\n",
        "plt.xlabel(\"Frequency\")\n",
        "plt.ylabel(\"Length of a word\")\n",
        "plt.title(\"Zipf's law for Length\")"
      ],
      "execution_count": 82,
      "outputs": [
        {
          "output_type": "execute_result",
          "data": {
            "text/plain": [
              "Text(0.5, 1.0, \"Zipf's law for Length\")"
            ]
          },
          "metadata": {
            "tags": []
          },
          "execution_count": 82
        },
        {
          "output_type": "display_data",
          "data": {
            "image/png": "[encoded data removed]",
            "text/plain": [
              "<Figure size 432x288 with 1 Axes>"
            ]
          },
          "metadata": {
            "tags": []
          }
        }
      ]
    },
    {
      "cell_type": "code",
      "metadata": {
        "id": "h7GhAmlBiPLi",
        "colab_type": "code",
        "colab": {
          "base_uri": "https://localhost:8080/",
          "height": 313
        },
        "outputId": "4ab33009-8163-451b-fd86-431413b34120"
      },
      "source": [
        "#Plotting Zipf's law for meanings\n",
        "\n",
        "m = []\n",
        "f = []\n",
        "#These indices are randomly selected in order to plot the Zipf's Law\n",
        "index= [19,95,131,404,444,496,826,1049]\n",
        "index.sort()\n",
        "\n",
        "for i in range(len(index)):\n",
        "  m.append(len(wordnet.synsets(types[index[i]][0])))\n",
        "  f.append(types[index[i]][1])\n",
        "    \n",
        "plt.plot(f,m)\n",
        "plt.xlabel(\"Frequency\")\n",
        "plt.ylabel(\"Number of Meanings\")\n",
        "plt.title(\"Zipf's Law for meanings\")\n"
      ],
      "execution_count": 83,
      "outputs": [
        {
          "output_type": "execute_result",
          "data": {
            "text/plain": [
              "Text(0.5, 1.0, \"Zipf's Law for meanings\")"
            ]
          },
          "metadata": {
            "tags": []
          },
          "execution_count": 83
        },
        {
          "output_type": "display_data",
          "data": {
            "image/png": "[encoded data removed]",
            "text/plain": [
              "<Figure size 432x288 with 1 Axes>"
            ]
          },
          "metadata": {
            "tags": []
          }
        }
      ]
    },
    {
      "cell_type": "code",
      "metadata": {
        "id": "IaaDqfeF7rvi",
        "colab_type": "code",
        "outputId": "a6837127-f27a-4f30-e6c7-935dbc2bc9b5",
        "colab": {
          "base_uri": "https://localhost:8080/",
          "height": 313
        }
      },
      "source": [
        "#Heaps Law\n",
        "N = [] \n",
        "for i in range(2500):\n",
        "  j = 100*i\n",
        "  lst = tokens[0: j] \n",
        "  V = j\n",
        "  types1 = FreqDist(lst)\n",
        "  N.append(len(types1))\n",
        "  \n",
        "#Plotting Heap's Law\n",
        "V = []\n",
        "for i in range(2500):\n",
        "  j= i*100\n",
        "  V.append(j)\n",
        "    \n",
        "plt.plot(V, N)\n",
        "plt.xlabel(\"Tokens\")\n",
        "plt.ylabel(\"Vocabulary\")\n",
        "plt.title(\"Heap's Law\")\n",
        "  \n",
        "  \n"
      ],
      "execution_count": 84,
      "outputs": [
        {
          "output_type": "execute_result",
          "data": {
            "text/plain": [
              "Text(0.5, 1.0, \"Heap's Law\")"
            ]
          },
          "metadata": {
            "tags": []
          },
          "execution_count": 84
        },
        {
          "output_type": "display_data",
          "data": {
            "image/png": "[encoded data removed]",
            "text/plain": [
              "<Figure size 432x288 with 1 Axes>"
            ]
          },
          "metadata": {
            "tags": []
          }
        }
      ]
    }
  ]
}