{
 "cells": [
  {
   "cell_type": "code",
   "execution_count": 1,
   "metadata": {},
   "outputs": [],
   "source": [
    "import re\n",
    "import math\n",
    "import nltk\n",
    "import random\n",
    "import numpy as np\n",
    "import matplotlib.pyplot as plt\n",
    "from scipy.optimize import curve_fit\n",
    "from nltk.tokenize import sent_tokenize\n",
    "from nltk.tokenize import word_tokenize\n",
    "from nltk.util import ngrams\n",
    "from sklearn.model_selection import train_test_split"
   ]
  },
  {
   "cell_type": "code",
   "execution_count": 2,
   "metadata": {
    "scrolled": false
   },
   "outputs": [],
   "source": [
    "with open (\"31100.txt\") as file:\n",
    "    data= file.read()"
   ]
  },
  {
   "cell_type": "code",
   "execution_count": 3,
   "metadata": {},
   "outputs": [],
   "source": [
    "sent_text = nltk.sent_tokenize(data) \n",
    "\n",
    "word_text = nltk.word_tokenize(data)\n"
   ]
  },
  {
   "cell_type": "code",
   "execution_count": 4,
   "metadata": {},
   "outputs": [],
   "source": [
    "for i, item in enumerate(sent_text):\n",
    "    s = item.replace(\"\\n\", \" \")\n",
    "    s = re.sub(r'[`~!@#$%^&*()+={}|\\[\\]:\";<>?,\\./“”]', '', s)\n",
    "    s = '<s>' + \" \" + s + \" \" + \"</s>\"\n",
    "    s = s.lower()\n",
    "    sent_text[i] = ' '.join(s.split())\n",
    "\n",
    "train, test= train_test_split(sent_text, test_size=0.2)"
   ]
  },
  {
   "cell_type": "code",
   "execution_count": 31,
   "metadata": {},
   "outputs": [
    {
     "name": "stdout",
     "output_type": "stream",
     "text": [
      "<s> have you ever seen the lady </s>\n"
     ]
    }
   ],
   "source": [
    "print(train[1])"
   ]
  },
  {
   "cell_type": "code",
   "execution_count": 6,
   "metadata": {},
   "outputs": [],
   "source": [
    "def get_ngrams(text_lst, n ):\n",
    "    \n",
    "    count = {}\n",
    "    total_count = 0\n",
    "    for i in range(len(text_lst)):\n",
    "        temp = text_lst[i].split()\n",
    "        for j in range(len(temp)-n+1):\n",
    "            \n",
    "            temp2 = []\n",
    "            for k in range(n):\n",
    "                temp2.append(temp[j+k])\n",
    "                s = \" \".join(temp2)\n",
    "            count[s] = count.get(s, 0) + 1\n",
    "            total_count += 1\n",
    "    return count, total_count"
   ]
  },
  {
   "cell_type": "code",
   "execution_count": 7,
   "metadata": {},
   "outputs": [],
   "source": [
    "unigram, total_unigrams = get_ngrams(train, 1)\n",
    "bigram, total_bigrams= get_ngrams(train, 2)\n",
    "trigram, total_trigrams = get_ngrams(train, 3)\n",
    "quadgram, total_quadgrams = get_ngrams(train, 4)"
   ]
  },
  {
   "cell_type": "code",
   "execution_count": 8,
   "metadata": {},
   "outputs": [],
   "source": [
    "#MLE for unigram\n",
    "MLE_unigrams = {}\n",
    "for i in unigram.keys():\n",
    "    MLE_unigrams[i] = unigram[i]/total_unigrams\n",
    "\n",
    "#MLE for bigram\n",
    "MLE_bigrams = {}\n",
    "for i in bigram.keys():\n",
    "    lst = i.split()\n",
    "    MLE_bigrams[i] = bigram[i]/unigram[' '.join(lst[:len(lst)-1])]\n",
    "\n",
    "#MLE for trigram\n",
    "MLE_trigrams = {}\n",
    "for i in trigram.keys():\n",
    "    lst = i.split()\n",
    "    MLE_trigrams[i] = trigram[i]/bigram[' '.join(lst[:len(lst)-1])]\n",
    "\n",
    "#MLE for quadgram\n",
    "MLE_quadgrams = {}\n",
    "for i in quadgram.keys():\n",
    "    lst = i.split()\n",
    "    MLE_quadgrams[i] = quadgram[i]/trigram[' '.join(lst[:len(lst)-1])]"
   ]
  },
  {
   "cell_type": "code",
   "execution_count": 9,
   "metadata": {},
   "outputs": [],
   "source": [
    "def Generator(n):\n",
    "    if n == 1:\n",
    "        probabilities = list(MLE_unigrams.values())\n",
    "        sent_gen = '<s>'\n",
    "        for i in range(15):\n",
    "            lst = np.random.multinomial(1,probabilities).tolist()\n",
    "            a = lst.index(1)\n",
    "            keys = list(unigram.keys())\n",
    "            chosenword = keys[a]\n",
    "            if(chosenword == \"<s>\"):\n",
    "                continue\n",
    "            elif(chosenword == \"</s>\"):\n",
    "                sent_gen = sent_gen + chosenword\n",
    "                return \n",
    "            else:\n",
    "                sent_gen = sent_gen + \" \" + chosenword             \n",
    "        return sent_gen\n",
    "    elif n == 2:\n",
    "        probabilities = list(MLE_bigrams.values())\n",
    "        sent_gen = '<s>'\n",
    "        start = '<s>'\n",
    "        wordlist = list(MLE_bigrams.keys())\n",
    "        \n",
    "        for i in range(15):\n",
    "            NextWord = []\n",
    "            prob = []\n",
    "            for j in range(len(wordlist)):\n",
    "                l = wordlist[j].split()\n",
    "                if(l[0] == start):\n",
    "                    NextWord.append(l[1])\n",
    "                    prob.append(probabilities[j])\n",
    "            \n",
    "            for m in range(len(prob)):\n",
    "                prob[m] = prob[m]/sum(prob)\n",
    "            lst = np.random.multinomial(1, prob).tolist()\n",
    "            a = lst.index(1)\n",
    "            word = NextWord[a]\n",
    "            if(word == \"</s>\"):\n",
    "                sent_gen = sent_gen + word\n",
    "                \n",
    "                return\n",
    "            else:\n",
    "                sent_gen = sent_gen + \" \" + word\n",
    "                start = word\n",
    "        return sent_gen\n",
    "    elif n == 3:\n",
    "        probabilities_tri = list(MLE_trigrams.values())\n",
    "        probabilities_bi = list(MLE_bigrams.values())\n",
    "        wordlist = list(MLE_trigrams.keys())\n",
    "        sent_gen = '<s>'\n",
    "        start_bi = \"<s>\"\n",
    "        NextWord_bi = []\n",
    "        prob_bi = []\n",
    "        bigrams = list(MLE_bigrams.keys())\n",
    "        \n",
    "        for i in range(len(bigrams)):\n",
    "            l = bigrams[i].split()\n",
    "            if(l[0] == start_bi):\n",
    "                NextWord_bi.append(l[1])\n",
    "                prob_bi.append(probabilities_bi[i])\n",
    "        lst_bi = np.random.multinomial(1, prob_bi).tolist()\n",
    "        a = lst_bi.index(1)\n",
    "        \n",
    "        word_bi = NextWord_bi[a]   \n",
    "        list_bi = [start_bi, word_bi]\n",
    "        \n",
    "        sent_gen = sent_gen +  \" \" + word_bi \n",
    "        for i in range(15):\n",
    "            NextWord_tri = []\n",
    "            prob_tri = []\n",
    "            for j in range(len(wordlist)):\n",
    "                l = wordlist[j].split()\n",
    "                if(l[0:2] == list_bi):\n",
    "                    NextWord_tri.append(l[2])\n",
    "                    prob_tri.append(probabilities_tri[j])\n",
    "            for m in range(len(prob_tri)):\n",
    "                prob_tri[m] = prob_tri[m]/sum(prob_tri)\n",
    "            \n",
    "            lst_tri = np.random.multinomial(1, prob_tri).tolist()\n",
    "            b = lst_tri.index(1)\n",
    "            \n",
    "            word_tri = NextWord_tri[b]\n",
    "            list_tri = [list_bi[1],word_tri]\n",
    "            if(word_tri == \"</s>\"):\n",
    "                sent_gen = sent_gen + word_tri\n",
    "                print(sent_gen, end =\"\")\n",
    "                return\n",
    "            else:\n",
    "                sent_gen = sent_gen + \" \" + word_tri\n",
    "        return sent_gen\n",
    "    elif n == 4:\n",
    "        probabilities_tri = list(MLE_trigrams.values())\n",
    "        probabilities_bi = list(MLE_bigrams.values())\n",
    "        probabilities_quad = list(MLE_quadgrams.values())\n",
    "        wordlist = list(MLE_quadgrams.keys())\n",
    "        sentence = \"<s> \"\n",
    "        start_bi = \"<s>\"\n",
    "        nextWord_bi = []\n",
    "        prob_bi = []\n",
    "        bigrams = list(MLE_bigrams.keys())\n",
    "        trigrams = list(MLE_trigrams.keys())\n",
    "        \n",
    "        for i in range(len(bigrams)):\n",
    "            l = bigrams[i].split()\n",
    "            if(l[0] == start_bi):\n",
    "                nextWord_bi.append(l[1])\n",
    "                prob_bi.append(probabilities_bi[i])\n",
    "        chosenarray_bi = np.random.multinomial(1, prob_bi)\n",
    "        chosenword_bi = nextWord_bi[int(np.where(chosenarray_bi == 1)[0])]\n",
    "        bigramTuple = (start_bi, chosenword_bi)\n",
    "        sentence = sentence + chosenword_bi + \" \"\n",
    "        nextWord_tri = []\n",
    "        prob_tri = []\n",
    "        for i in range(len(trigrams)):\n",
    "            l = trigrams[i].split()\n",
    "            if(l[0] == bigramTuple[0] and l[1] == bigramTuple[1]):\n",
    "                nextWord_tri.append(l[2])\n",
    "                prob_tri.append(probabilities_tri[i])\n",
    "        chosenarray_tri = np.random.multinomial(1, prob_tri)\n",
    "        chosenword_tri = nextWord_tri[int(np.where(chosenarray_tri == 1)[0])]\n",
    "        trigramTuple = (start_bi, chosenword_bi,chosenword_tri)\n",
    "        sentence = sentence + chosenword_tri + \" \"\n",
    "        for j in range(15):\n",
    "            nextWord_quad = []\n",
    "            prob_quad = []\n",
    "            for i in range(len(wordlist)):\n",
    "                l = wordlist[i].split()\n",
    "                if(l[0] == trigramTuple[0] and l[1] == trigramTuple[1] and l[2] == trigramTuple[2]):\n",
    "                    nextWord_quad.append(l[3])\n",
    "                    prob_quad.append(probabilities_quad[i])\n",
    "           \n",
    "            chosenarray_quad = np.random.multinomial(1, prob_quad)\n",
    "            chosenword_quad = nextWord_quad[int(np.where(chosenarray_quad == 1)[0])]\n",
    "            trigramTuple = (trigramTuple[1],trigramTuple[2], chosenword_quad)\n",
    "          \n",
    "            if(chosenword_quad == \"</s>\"):\n",
    "                sentence = sentence + chosenword_quad\n",
    "                print(sentence, end =\"\")\n",
    "                return\n",
    "            else:\n",
    "                sentence = sentence + chosenword_quad + \" \"\n"
   ]
  },
  {
   "cell_type": "code",
   "execution_count": 44,
   "metadata": {
    "scrolled": true
   },
   "outputs": [
    {
     "name": "stdout",
     "output_type": "stream",
     "text": [
      "<s> but you must come indeed </s>None\n"
     ]
    }
   ],
   "source": [
    "print(Generator(4))"
   ]
  },
  {
   "cell_type": "code",
   "execution_count": 45,
   "metadata": {},
   "outputs": [
    {
     "name": "stdout",
     "output_type": "stream",
     "text": [
      "None\n",
      "<s> part i hope by of know behind could happiness her a above worse or deal\n",
      "<s> there lower all you you of large park and to the both continued a cottage\n",
      "None\n",
      "<s> obliged about do for the patience our is fresh sudden lady seen the of whole\n"
     ]
    }
   ],
   "source": [
    "for _ in range(5):\n",
    "    print(Generator(1))"
   ]
  },
  {
   "cell_type": "code",
   "execution_count": 43,
   "metadata": {},
   "outputs": [
    {
     "name": "stdout",
     "output_type": "stream",
     "text": [
      "None\n",
      "None\n",
      "<s> yes she calmly begged leave a quivering lip emma thought elinor told me to be\n",
      "<s> she was likely to cloud when the objects as to such varieties of meeting with\n",
      "<s> the others still was a joke with captain tilney as such inhumanity and face you\n"
     ]
    }
   ],
   "source": [
    "for _ in range(5):\n",
    "    print(Generator(2))"
   ]
  },
  {
   "cell_type": "code",
   "execution_count": 13,
   "metadata": {},
   "outputs": [
    {
     "name": "stdout",
     "output_type": "stream",
     "text": [
      "<s> the history kellynch apothecary entrance crawfords wants boy beautifull next letter cottage event first comfort holidays\n",
      "<s> we dressed are always shall are had lived must are have happened want perfectly have must\n",
      "<s> no ma'am one more i no--do no my she i hurry theatre i you i my\n",
      "<s> i ran like do venture hope perfectly consider have did am cannot dare thought had wish\n",
      "<s> in nursing half this a the one one seeing general the no his a this all\n"
     ]
    }
   ],
   "source": [
    "for _ in range(5):\n",
    "    print(Generator(3))"
   ]
  },
  {
   "cell_type": "code",
   "execution_count": 14,
   "metadata": {},
   "outputs": [
    {
     "name": "stdout",
     "output_type": "stream",
     "text": [
      "<s> it may not be for several years </s>None\n",
      "<s> and moreover if you must go you cannot refuse to come </s>None\n",
      "None\n",
      "<s> it is a shocking trick for a young man like mr allen </s>None\n",
      "None\n"
     ]
    }
   ],
   "source": [
    "for _ in range(5):\n",
    "    print(Generator(4))"
   ]
  },
  {
   "cell_type": "code",
   "execution_count": 40,
   "metadata": {},
   "outputs": [
    {
     "name": "stdout",
     "output_type": "stream",
     "text": [
      "Unigram Probability= 3.086215246700652e-44\n",
      "Perplexity for Unigram= 362.6147926617235\n",
      "Bigram Probability= 8.883107071948704e-31\n",
      "Perplexity for Bigram= 75.54656006026416\n",
      "Trigram probability = 8.173503478675116e-16\n",
      "Perplexity for Trigram= 10.135366319325014\n"
     ]
    }
   ],
   "source": [
    "def ProbUnigram(word_list):\n",
    "    log_sum_uni = 0 \n",
    "    vals= list(MLE_unigrams.values())\n",
    "    keys = list(MLE_unigrams.keys())\n",
    "    for i in word_list:\n",
    "        index = keys.index(i)\n",
    "        try:\n",
    "            log_sum_uni += math.log(vals[index])\n",
    "        except:\n",
    "            log_sum_uni+=0\n",
    "    print(\"Unigram Probability=\",math.exp(log_sum_uni))\n",
    "    print(\"Perplexity for Unigram=\",1/(math.exp(log_sum_uni))**(1/len(word_list)))\n",
    "    \n",
    "def ProbBigram(word_list):\n",
    "    log_sum_bi = 0 \n",
    "    vals= list(MLE_bigrams.values())\n",
    "    keys = list(MLE_bigrams.keys())\n",
    "    for i in word_list:\n",
    "        index = keys.index(i)\n",
    "        try:\n",
    "            log_sum_bi += math.log(vals[index])\n",
    "        except:\n",
    "            log_sum_bi+=0\n",
    "    print(\"Bigram Probability=\",math.exp(log_sum_bi))\n",
    "    print(\"Perplexity for Bigram=\",1/(math.exp(log_sum_bi))**(1/len(word_list)))\n",
    "    \n",
    "def ProbTrigram(word_list):\n",
    "    log_sum_tri = 0 \n",
    "    vals= list(MLE_trigrams.values())\n",
    "    keys = list(MLE_trigrams.keys())\n",
    "    for i in word_list:\n",
    "        index = keys.index(i)\n",
    "        try:\n",
    "            log_sum_tri += math.log(vals[index])\n",
    "        except:\n",
    "            log_sum_tri+=0\n",
    "    print(\"Trigram probability =\",math.exp(log_sum_tri))\n",
    "    print(\"Perplexity for Trigram=\",1/(math.exp(log_sum_tri))**(1/len(word_list)))\n",
    "def ProbQuadgram(word_list):\n",
    "    log_sum_quad = 0 \n",
    "    vals= list(MLE_trigrams.values())\n",
    "    keys = list(MLE_trigrams.keys())\n",
    "    for i in word_list:\n",
    "        index = keys.index(i)\n",
    "        try:\n",
    "            log_sum_quad += math.log(vals[index])\n",
    "        except:\n",
    "            log_sum_quad+=0\n",
    "    print(\"Log space probability Quadgram =\",math.exp(log_sum_quad))\n",
    "    print(\"Perplexity for Quadgram=\",1/(math.exp(log_sum_quad))**(1/len(word_list)))\n",
    "    \n",
    "    \n",
    "def Probability(sentence,model_name):\n",
    "    sentence = sentence.replace(\"\\n\",\" \").replace(\"\\r\",\" \").replace(\"’\",\"\").replace(\"-\",\" \")\n",
    "    sentence = re.sub('[^ A-Za-z0-9]',' ',sentence)\n",
    "    sentence = sentence.lower()\n",
    "    words_list =[] \n",
    "    words_list.append(\"<s>\")\n",
    "    words_list.extend(word_tokenize(sentence))\n",
    "    words_list.append(\"</s>\")\n",
    "    bigrams = list(ngrams(words_list,2))\n",
    "    trigrams = list(ngrams(words_list,3))\n",
    "    quadgrams = list(ngrams(words_list,4))\n",
    "   \n",
    "    for i in range(len(bigrams)):\n",
    "        bigrams[i] = bigrams[i][0]+ \" \" +bigrams[i][1]\n",
    "   \n",
    "    for i in range(len(trigrams)):\n",
    "        trigrams[i] = trigrams[i][0]+ \" \" +trigrams[i][1] + \" \"+ trigrams[i][2]\n",
    "    \n",
    "    for i in range(len(quadgrams)):\n",
    "        quadgrams[i] = quadgrams[i][0]+ \" \" +quadgrams[i][1] + \" \" + quadgrams[i][2]+ \" \" +quadgrams[i][3]\n",
    " \n",
    "        \n",
    "    if(model_name == \"Unigram\"):\n",
    "        ProbUnigram(words_list)\n",
    "    elif(model_name == \"Bigram\"):\n",
    "        ProbBigram(bigrams)\n",
    "    elif(model_name == \"Trigram\"):\n",
    "        ProbTrigram(trigrams)\n",
    "    elif(model_name == \"Quadgram\"):\n",
    "        ProbQuadgram(quadgrams)\n",
    "\n",
    "\n",
    "sentence = \"But now, another occupation and solicitude of mind was beginning to be added to these.\"\n",
    "Probability(sentence, \"Unigram\")\n",
    "Probability(sentence, \"Bigram\")\n",
    "Probability(sentence, \"Trigram\")\n",
    "\n",
    "\n"
   ]
  }
 ],
 "metadata": {
  "kernelspec": {
   "display_name": "Python 3",
   "language": "python",
   "name": "python3"
  },
  "language_info": {
   "codemirror_mode": {
    "name": "ipython",
    "version": 3
   },
   "file_extension": ".py",
   "mimetype": "text/x-python",
   "name": "python",
   "nbconvert_exporter": "python",
   "pygments_lexer": "ipython3",
   "version": "3.7.3"
  }
 },
 "nbformat": 4,
 "nbformat_minor": 2
}
